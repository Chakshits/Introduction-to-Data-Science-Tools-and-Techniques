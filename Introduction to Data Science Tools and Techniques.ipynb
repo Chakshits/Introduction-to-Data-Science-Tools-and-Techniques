{
 "cells": [
  {
   "cell_type": "markdown",
   "metadata": {},
   "source": [
    "### **Title: Introduction to Data Science Tools and Techniques**"
   ]
  },
  {
   "cell_type": "markdown",
   "metadata": {},
   "source": [
    "## **Introduction**\n",
    "\n",
    "This notebook serves as an educational resource for beginners in data science, showcasing basic functionalities and tools commonly used in the field."
   ]
  },
  {
   "cell_type": "markdown",
   "metadata": {},
   "source": [
    "## **Data Science Languages**\n",
    "\n",
    "- **Python**\n",
    "- **R**\n",
    "- **SQL**\n",
    "- **Julia**\n",
    "- **Scala**"
   ]
  },
  {
   "cell_type": "markdown",
   "metadata": {},
   "source": [
    "## **Data Science Libraries**\n",
    "\n",
    "- **NumPy**\n",
    "- **Pandas**\n",
    "- **Matplotlib**\n",
    "- **Scikit-learn**\n",
    "- **TensorFlow**\n",
    "- **Keras**\n",
    "- **PyTorch**"
   ]
  },
  {
   "cell_type": "markdown",
   "metadata": {},
   "source": [
    "## **Data Science Tools**\n",
    "\n",
    "| Tool         | Description                                           | Use Case                |\n",
    "|--------------|-------------------------------------------------------|-------------------------|\n",
    "| Jupyter      | Interactive computing and development environment     | Notebooks, coding       |\n",
    "| Anaconda     | Package management and environment management system  | Software distribution   |\n",
    "| Tableau      | Data visualization tool                               | Interactive data viz    |\n",
    "| Apache Spark | Large-scale data processing engine                    | Big Data processing     |\n",
    "| Git          | Version control system                                | Code versioning         |"
   ]
  },
  {
   "cell_type": "markdown",
   "metadata": {},
   "source": [
    "## **Arithmetic Expression Examples**\n",
    "\n",
    "Below are examples of basic arithmetic operations in Python."
   ]
  },
  {
   "cell_type": "code",
   "execution_count": 1,
   "metadata": {},
   "outputs": [
    {
     "name": "stdout",
     "output_type": "stream",
     "text": [
      "10 multiplied by 20 is 200\n",
      "10 added to 20 is 30\n"
     ]
    }
   ],
   "source": [
    "# Exercise 8: Code cell to multiply and add numbers\n",
    "number1 = 10\n",
    "number2 = 20\n",
    "\n",
    "# Multiplication\n",
    "result_multiply = number1 * number2\n",
    "print(f\"{number1} multiplied by {number2} is {result_multiply}\")\n",
    "\n",
    "# Addition\n",
    "result_add = number1 + number2\n",
    "print(f\"{number1} added to {number2} is {result_add}\")"
   ]
  },
  {
   "cell_type": "code",
   "execution_count": 2,
   "metadata": {},
   "outputs": [
    {
     "name": "stdout",
     "output_type": "stream",
     "text": [
      "120 minutes is equal to 2.0 hours.\n"
     ]
    }
   ],
   "source": [
    "# Exercise 9: Code cell to convert minutes to hours\n",
    "minutes = 120\n",
    "\n",
    "# Conversion to hours\n",
    "hours = minutes / 60\n",
    "print(f\"{minutes} minutes is equal to {hours} hours.\")"
   ]
  },
  {
   "cell_type": "markdown",
   "metadata": {},
   "source": [
    "## **Objectives**\n",
    "\n",
    "- Introduce basic data science languages and tools.\n",
    "- Demonstrate simple Python arithmetic operations.\n",
    "- Provide a template for creating structured Jupyter Notebooks for educational purposes."
   ]
  },
  {
   "cell_type": "markdown",
   "metadata": {},
   "source": [
    "## **Author**\n",
    "\n",
    "- **CHAKSHI SINGLA**"
   ]
  }
 ],
 "metadata": {
  "kernelspec": {
   "display_name": "Python 3",
   "language": "python",
   "name": "python3"
  },
  "language_info": {
   "codemirror_mode": {
    "name": "ipython",
    "version": 3
   },
   "file_extension": ".py",
   "mimetype": "text/x-python",
   "name": "python",
   "nbconvert_exporter": "python",
   "pygments_lexer": "ipython3",
   "version": "3.12.4"
  }
 },
 "nbformat": 4,
 "nbformat_minor": 2
}
